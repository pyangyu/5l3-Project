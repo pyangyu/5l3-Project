{
 "cells": [
  {
   "cell_type": "code",
   "execution_count": 9,
   "id": "1517f558-8669-48d7-a867-b7bc30512630",
   "metadata": {},
   "outputs": [],
   "source": [
    "import pandas as pd\n",
    "import string"
   ]
  },
  {
   "cell_type": "code",
   "execution_count": 10,
   "id": "966c15ec-5753-49cf-9030-9f020d556f78",
   "metadata": {},
   "outputs": [],
   "source": [
    "# load the data for comparision\n",
    "\n",
    "df1 = pd.read_csv('Menu.csv')\n",
    "df2 = pd.read_csv('corrected_dataset.csv')"
   ]
  },
  {
   "cell_type": "code",
   "execution_count": 11,
   "id": "7c27b69b-2909-4235-b73d-f4a08e10c9a6",
   "metadata": {},
   "outputs": [
    {
     "name": "stdout",
     "output_type": "stream",
     "text": [
      "Number of cells changed: 6333\n"
     ]
    }
   ],
   "source": [
    "# check how many cells are changed\n",
    "\n",
    "changes = df2['sponsor'] != df1['sponsor']\n",
    "num_changes = changes.sum()\n",
    "\n",
    "print(f'Number of cells changed: {num_changes}')\n",
    "\n",
    "changed_cells = df1[changes][['sponsor']].head(20)\n",
    "\n",
    "changed_cells = pd.DataFrame({\n",
    "    'Original': df1['sponsor'][changes].head(20),\n",
    "    'Modified': df2['sponsor'][changes].head(20)\n",
    "})\n",
    "\n",
    "#print(changed_cells)"
   ]
  },
  {
   "cell_type": "code",
   "execution_count": 12,
   "id": "1d57f010-a2dd-42fe-91e2-f9f6f49db36a",
   "metadata": {},
   "outputs": [
    {
     "name": "stdout",
     "output_type": "stream",
     "text": [
      "Original: Number of NaN cells: 1561\n",
      "Original: Number of empty cells: 0\n",
      "Modified: Number of NaN cells: 1618\n",
      "Modified: Number of empty cells: 0\n"
     ]
    }
   ],
   "source": [
    "# check how the number nan and empty \n",
    "\n",
    "num_nan1 = df1['sponsor'].isna().sum()\n",
    "num_empty1 = (df1['sponsor'] == '').sum()\n",
    "num_nan2 = df2['sponsor'].isna().sum()\n",
    "num_empty2 = (df2['sponsor'] == '').sum()\n",
    "\n",
    "print(f'Original: Number of NaN cells: {num_nan1}')\n",
    "print(f'Original: Number of empty cells: {num_empty1}')\n",
    "print(f'Modified: Number of NaN cells: {num_nan2}')\n",
    "print(f'Modified: Number of empty cells: {num_empty2}')"
   ]
  },
  {
   "cell_type": "code",
   "execution_count": 13,
   "id": "b1f47df9-0541-4f41-a729-03cc0c3d7056",
   "metadata": {},
   "outputs": [
    {
     "name": "stdout",
     "output_type": "stream",
     "text": [
      "Original: Number of cells not in upper case, lower case, or title case: 1404\n",
      "Modified: Number of cells not in upper case, lower case, or title case: 1687\n"
     ]
    }
   ],
   "source": [
    "# check if any cells are not either lower case, upper case or title case\n",
    "\n",
    "def is_not_case_compliant(text):\n",
    "    if pd.isna(text):  # Treat NaN values as compliant\n",
    "        return False\n",
    "    text = str(text)\n",
    "    return not (text.isupper() or text.islower() or text.istitle())\n",
    "\n",
    "num_non_compliant1 = df1['sponsor'].apply(is_not_case_compliant).sum()\n",
    "num_non_compliant2 = df2['sponsor'].apply(is_not_case_compliant).sum()\n",
    "\n",
    "print(f'Original: Number of cells not in upper case, lower case, or title case: {num_non_compliant1}')\n",
    "print(f'Modified: Number of cells not in upper case, lower case, or title case: {num_non_compliant2}')"
   ]
  },
  {
   "cell_type": "code",
   "execution_count": 15,
   "id": "1f83bb54-03b4-441e-a36c-88a44e90812f",
   "metadata": {},
   "outputs": [
    {
     "name": "stdout",
     "output_type": "stream",
     "text": [
      "Original: Number of unique values in the sponsor column: 6370\n",
      "Modified: Number of unique values in the sponsor column: 6252\n"
     ]
    },
    {
     "data": {
      "text/plain": [
       "<bound method IndexOpsMixin.value_counts of 0                                            HOTEL EASTMAN\n",
       "1                                         REPUBLICAN HOUSE\n",
       "2                               NORDDEUTSCHER LLOYD BREMEN\n",
       "3                               NORDDEUTSCHER LLOYD BREMEN\n",
       "4                               NORDDEUTSCHER LLOYD BREMEN\n",
       "                               ...                        \n",
       "17540                                        Hotel LaSalle\n",
       "17541                                            Dennett's\n",
       "17542                                        The Cortlandt\n",
       "17543             Hotel Schynige Platte und Hotel Bellevue\n",
       "17544    Christmas Dinner, Troop F 19: Fort Huachuca, A...\n",
       "Name: sponsor, Length: 17545, dtype: object>"
      ]
     },
     "execution_count": 15,
     "metadata": {},
     "output_type": "execute_result"
    }
   ],
   "source": [
    "# check how many unique cells\n",
    "\n",
    "num_unique_values1 = df1['sponsor'].nunique()\n",
    "num_unique_values2 = df2['sponsor'].nunique()\n",
    "\n",
    "print(f'Original: Number of unique values in the sponsor column: {num_unique_values1}')\n",
    "print(f'Modified: Number of unique values in the sponsor column: {num_unique_values2}')"
   ]
  },
  {
   "cell_type": "code",
   "execution_count": 24,
   "id": "99ac18fb-d66e-458a-b0f6-c6cc8eb54684",
   "metadata": {},
   "outputs": [
    {
     "name": "stdout",
     "output_type": "stream",
     "text": [
      "Original: Number of sponsors with multiple locations: 93\n",
      "Modified: Number of sponsors with multiple locations: 156\n",
      "\n",
      "Original: Sponsors with multiple locations and their count of unique locations:\n",
      "sponsor\n",
      "(AMERICAN LINE)                                 2\n",
      "?                                              15\n",
      "ALCAZAR HOTEL                                   2\n",
      "BALTIMORE AND OHIO RR ROYAL BLUE LINE           2\n",
      "BELVEDERE HOUSE;                                2\n",
      "                                               ..\n",
      "Unknown                                         3\n",
      "VENDOME HOTEL                                   2\n",
      "Waldorf-Astoria                                 2\n",
      "[Restaurant And/Or Location Unknown]            2\n",
      "[Restaurant Name And/Or Location Not Given]     9\n",
      "Name: location, Length: 93, dtype: int64\n",
      "\n",
      "Modified: Sponsors with multiple locations and their count of unique locations:\n",
      "sponsor\n",
      "(AMERICAN LINE)                                 2\n",
      "?                                              15\n",
      "ALCAZAR HOTEL                                   2\n",
      "BALTIMORE AND OHIO RR ROYAL BLUE LINE           2\n",
      "BELVEDERE HOUSE;                                2\n",
      "                                               ..\n",
      "Unknown                                         3\n",
      "VENDOME HOTEL                                   2\n",
      "Waldorf-Astoria                                 2\n",
      "[Restaurant And/Or Location Unknown]            2\n",
      "[Restaurant Name And/Or Location Not Given]     9\n",
      "Name: location, Length: 93, dtype: int64\n"
     ]
    }
   ],
   "source": [
    "# check the sponsors that have multiple location\n",
    "\n",
    "location_counts1 = df1.groupby('sponsor')['location'].nunique()\n",
    "multiple_locations1 = location_counts1[location_counts1 > 1]\n",
    "num_sponsors_multiple_locations1 = multiple_locations1.count()\n",
    "\n",
    "location_counts2 = df2.groupby('sponsor')['location'].nunique()\n",
    "multiple_locations2 = location_counts2[location_counts2 > 1]\n",
    "num_sponsors_multiple_locations2 = multiple_locations2.count()\n",
    "\n",
    "print(f'Original: Number of sponsors with multiple locations: {num_sponsors_multiple_locations1}')\n",
    "print(f'Modified: Number of sponsors with multiple locations: {num_sponsors_multiple_locations2}')\n",
    "\n",
    "print(\"\\nOriginal: Sponsors with multiple locations and their count of unique locations:\")\n",
    "print(multiple_locations1)\n",
    "\n",
    "print(\"\\nModified: Sponsors with multiple locations and their count of unique locations:\")\n",
    "print(multiple_locations1)"
   ]
  },
  {
   "cell_type": "code",
   "execution_count": null,
   "id": "8160516b-ad34-43a5-9f50-5197cb692397",
   "metadata": {},
   "outputs": [],
   "source": []
  },
  {
   "cell_type": "code",
   "execution_count": null,
   "id": "28bf7fba-8a92-4176-9e51-d66537c2628c",
   "metadata": {},
   "outputs": [],
   "source": []
  }
 ],
 "metadata": {
  "kernelspec": {
   "display_name": "Python 3 (ipykernel)",
   "language": "python",
   "name": "python3"
  },
  "language_info": {
   "codemirror_mode": {
    "name": "ipython",
    "version": 3
   },
   "file_extension": ".py",
   "mimetype": "text/x-python",
   "name": "python",
   "nbconvert_exporter": "python",
   "pygments_lexer": "ipython3",
   "version": "3.10.12"
  }
 },
 "nbformat": 4,
 "nbformat_minor": 5
}
