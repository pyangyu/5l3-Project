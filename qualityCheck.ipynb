{
 "cells": [
  {
   "cell_type": "code",
   "execution_count": 45,
   "id": "1517f558-8669-48d7-a867-b7bc30512630",
   "metadata": {},
   "outputs": [],
   "source": [
    "import pandas as pd\n",
    "import string"
   ]
  },
  {
   "cell_type": "code",
   "execution_count": 46,
   "id": "966c15ec-5753-49cf-9030-9f020d556f78",
   "metadata": {},
   "outputs": [],
   "source": [
    "# load the data for comparision\n",
    "\n",
    "df1 = pd.read_csv('Menu.csv')\n",
    "df2 = pd.read_csv('Menu_cleaned_format.csv')"
   ]
  },
  {
   "cell_type": "code",
   "execution_count": 48,
   "id": "c9b1a78b-3a60-4fdc-b5dd-ef9c2cbb0fb4",
   "metadata": {},
   "outputs": [
    {
     "name": "stdout",
     "output_type": "stream",
     "text": [
      "Number of changed cells in 'sponsor' column: 9415\n",
      "Number of removed cells in 'sponsor' column: 1618\n",
      "ID: 12469, Before: HOTEL NETHERLAND, After: NETHERLAND HOTEL \n",
      "ID: 12475, Before: MANHATTAN HOTEL, After: MANHATTAN HOTEL \n",
      "ID: 12483, Before: MANHATTAN HOTEL, After: MANHATTAN HOTEL \n",
      "ID: 12486, Before: HOTEL SAVOY, After: SAVOY HOTEL \n",
      "ID: 12490, Before: HOTEL IMPERIAL, After: IMPERIAL HOTEL\n",
      "ID: 12508, Before: MARIE ANTOINETTE HOTEL, After: MARIE ANTOINETTE HOTEL \n",
      "ID: 12510, Before: MARIE ANTOINETTE HOTEL, After: MARIE ANTOINETTE HOTEL \n",
      "ID: 12551, Before: NORDDEUTSCHER LLOYD  BREMEN, After: NORDDEUTSCHER LLOYD BREMEN\n",
      "ID: 12554, Before: HOTEL DEL CORONADO, After: DEL CORONADO HOTEL \n",
      "ID: 12557, Before: HOTEL VICTORY, After: VICTORY HOTEL \n",
      "ID: 12576, Before: U.S. ARMY - SUBSISTENCE DEPT., After: U.S. ARMY - SUBSISTENCE DEPT\n",
      "ID: 12703, Before: VENDOME HOTEL, After: VENDOME HOTEL \n",
      "ID: 12704, Before: NETHERLAND HOTEL, After: NETHERLAND HOTEL \n",
      "ID: 12714, Before: HOTEL VICTORY, After: VICTORY HOTEL \n",
      "ID: 12718, Before: GRUNEWALD HOTEL, After: GRUNEWALD HOTEL \n",
      "ID: 12738, Before: SAVOY HOTEL, After: SAVOY HOTEL \n",
      "ID: 12739, Before: USMS NEW YORK, After: U.S.M.S. NEW YORK\n",
      "ID: 12774, Before: SAVOY HOTEL, After: SAVOY HOTEL \n",
      "ID: 12775, Before: (MANHATTAN CLUB), After: MANHATTAN CLUB\n",
      "ID: 12782, Before: EMPIRE HOTEL, After: EMPIRE HOTEL \n"
     ]
    }
   ],
   "source": [
    "df1i = df1\n",
    "df2i = df2\n",
    "\n",
    "df1i.set_index('id', inplace=True)\n",
    "df2i.set_index('id', inplace=True)\n",
    "\n",
    "sponsor_before = df1i[['sponsor']]\n",
    "sponsor_after = df2i[['sponsor']]\n",
    "\n",
    "all_indices = sponsor_before.index.union(sponsor_after.index)\n",
    "sponsor_before_aligned = sponsor_before.reindex(index=all_indices).fillna('MISSING')\n",
    "sponsor_after_aligned = sponsor_after.reindex(index=all_indices).fillna('MISSING')\n",
    "\n",
    "comparison = sponsor_before_aligned != sponsor_after_aligned\n",
    "num_changed_cells = comparison.sum().sum()\n",
    "\n",
    "removed_indices = sponsor_before.index.difference(sponsor_after.index)\n",
    "num_removed_cells = len(removed_indices)\n",
    "\n",
    "print(f\"Number of changed cells in 'sponsor' column: {num_changed_cells}\")\n",
    "print(f\"Number of removed cells in 'sponsor' column: {num_removed_cells}\")\n",
    "\n",
    "changed_indices = comparison[comparison['sponsor']].index\n",
    "for idx in changed_indices[:20]:\n",
    "    before_value = sponsor_before_aligned.at[idx, 'sponsor']\n",
    "    after_value = sponsor_after_aligned.at[idx, 'sponsor']\n",
    "    print(f\"ID: {idx}, Before: {before_value}, After: {after_value}\")"
   ]
  },
  {
   "cell_type": "code",
   "execution_count": 50,
   "id": "1d57f010-a2dd-42fe-91e2-f9f6f49db36a",
   "metadata": {},
   "outputs": [
    {
     "name": "stdout",
     "output_type": "stream",
     "text": [
      "Original: Number of NaN cells: 1561\n",
      "Original: Number of empty cells: 0\n",
      "Modified: Number of NaN cells: 0\n",
      "Modified: Number of empty cells: 0\n"
     ]
    }
   ],
   "source": [
    "# check how the number nan and empty \n",
    "\n",
    "num_nan1 = df1['sponsor'].isna().sum()\n",
    "num_empty1 = (df1['sponsor'] == '').sum()\n",
    "num_nan2 = df2['sponsor'].isna().sum()\n",
    "num_empty2 = (df2['sponsor'] == '').sum()\n",
    "\n",
    "print(f'Original: Number of NaN cells: {num_nan1}')\n",
    "print(f'Original: Number of empty cells: {num_empty1}')\n",
    "print(f'Modified: Number of NaN cells: {num_nan2}')\n",
    "print(f'Modified: Number of empty cells: {num_empty2}')"
   ]
  },
  {
   "cell_type": "code",
   "execution_count": 51,
   "id": "b1f47df9-0541-4f41-a729-03cc0c3d7056",
   "metadata": {},
   "outputs": [
    {
     "name": "stdout",
     "output_type": "stream",
     "text": [
      "Original: Number of cells not in upper case, lower case, or title case: 1404\n",
      "Modified: Number of cells not in upper case, lower case, or title case: 0\n"
     ]
    }
   ],
   "source": [
    "# check if any cells are not either lower case, upper case or title case\n",
    "\n",
    "def is_not_case_compliant(text):\n",
    "    if pd.isna(text):  # Treat NaN values as compliant\n",
    "        return False\n",
    "    text = str(text)\n",
    "    return not (text.isupper() or text.islower() or text.istitle())\n",
    "\n",
    "num_non_compliant1 = df1['sponsor'].apply(is_not_case_compliant).sum()\n",
    "num_non_compliant2 = df2['sponsor'].apply(is_not_case_compliant).sum()\n",
    "\n",
    "print(f'Original: Number of cells not in upper case, lower case, or title case: {num_non_compliant1}')\n",
    "print(f'Modified: Number of cells not in upper case, lower case, or title case: {num_non_compliant2}')"
   ]
  },
  {
   "cell_type": "code",
   "execution_count": 52,
   "id": "1f83bb54-03b4-441e-a36c-88a44e90812f",
   "metadata": {},
   "outputs": [
    {
     "name": "stdout",
     "output_type": "stream",
     "text": [
      "Original: Number of unique values in the sponsor column: 6370\n",
      "Modified: Number of unique values in the sponsor column: 5928\n"
     ]
    }
   ],
   "source": [
    "# check how many unique cells\n",
    "\n",
    "num_unique_values1 = df1['sponsor'].nunique()\n",
    "num_unique_values2 = df2['sponsor'].nunique()\n",
    "\n",
    "print(f'Original: Number of unique values in the sponsor column: {num_unique_values1}')\n",
    "print(f'Modified: Number of unique values in the sponsor column: {num_unique_values2}')"
   ]
  },
  {
   "cell_type": "code",
   "execution_count": 56,
   "id": "99ac18fb-d66e-458a-b0f6-c6cc8eb54684",
   "metadata": {},
   "outputs": [
    {
     "name": "stdout",
     "output_type": "stream",
     "text": [
      "Original: Number of sponsors with multiple locations: 93\n",
      "Modified: Number of sponsors with multiple locations: 275\n",
      "\n",
      "Original: Sponsors with multiple locations and their count of unique locations:\n",
      "sponsor\n",
      "(AMERICAN LINE)                                 2\n",
      "?                                              15\n",
      "ALCAZAR HOTEL                                   2\n",
      "BALTIMORE AND OHIO RR ROYAL BLUE LINE           2\n",
      "BELVEDERE HOUSE;                                2\n",
      "                                               ..\n",
      "Unknown                                         3\n",
      "VENDOME HOTEL                                   2\n",
      "Waldorf-Astoria                                 2\n",
      "[Restaurant And/Or Location Unknown]            2\n",
      "[Restaurant Name And/Or Location Not Given]     9\n",
      "Name: location, Length: 93, dtype: int64\n",
      "\n",
      "Modified: Sponsors with multiple locations and their count of unique locations:\n",
      "sponsor\n",
      "ADAMS' RESTAURANT                                    2\n",
      "ALCAZAR HOTEL                                        2\n",
      "ALGONQUIN HOTEL                                      2\n",
      "ALPHA KAPPA KAPPA                                    2\n",
      "ALTA VISTA HOTEL                                     2\n",
      "                                                    ..\n",
      "WISCONSIN SOCIETY SONS OF THE AMERICAN REVOLUTION    2\n",
      "WORTHY HOTEL                                         2\n",
      "YORK HOTEL                                           2\n",
      "[NOT GIVEN]                                          2\n",
      "[RESTAURANT AND/OR LOCATION UNKNOWN]                 2\n",
      "Name: location, Length: 275, dtype: int64\n"
     ]
    }
   ],
   "source": [
    "# check the sponsors that have multiple location\n",
    "\n",
    "location_counts1 = df1.groupby('sponsor')['location'].nunique()\n",
    "multiple_locations1 = location_counts1[location_counts1 > 1]\n",
    "num_sponsors_multiple_locations1 = multiple_locations1.count()\n",
    "\n",
    "location_counts2 = df2.groupby('sponsor')['location'].nunique()\n",
    "multiple_locations2 = location_counts2[location_counts2 > 1]\n",
    "num_sponsors_multiple_locations2 = multiple_locations2.count()\n",
    "\n",
    "print(f'Original: Number of sponsors with multiple locations: {num_sponsors_multiple_locations1}')\n",
    "print(f'Modified: Number of sponsors with multiple locations: {num_sponsors_multiple_locations2}')\n",
    "\n",
    "print(\"\\nOriginal: Sponsors with multiple locations and their count of unique locations:\")\n",
    "print(multiple_locations1)\n",
    "\n",
    "print(\"\\nModified: Sponsors with multiple locations and their count of unique locations:\")\n",
    "print(multiple_locations2)"
   ]
  },
  {
   "cell_type": "code",
   "execution_count": null,
   "id": "d57c9116-9724-427d-a740-b42bac6a1b26",
   "metadata": {},
   "outputs": [],
   "source": []
  }
 ],
 "metadata": {
  "kernelspec": {
   "display_name": "Python 3 (ipykernel)",
   "language": "python",
   "name": "python3"
  },
  "language_info": {
   "codemirror_mode": {
    "name": "ipython",
    "version": 3
   },
   "file_extension": ".py",
   "mimetype": "text/x-python",
   "name": "python",
   "nbconvert_exporter": "python",
   "pygments_lexer": "ipython3",
   "version": "3.10.12"
  }
 },
 "nbformat": 4,
 "nbformat_minor": 5
}
