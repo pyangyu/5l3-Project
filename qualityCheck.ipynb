{
 "cells": [
  {
   "cell_type": "code",
   "execution_count": 1,
   "id": "1517f558-8669-48d7-a867-b7bc30512630",
   "metadata": {},
   "outputs": [],
   "source": [
    "import pandas as pd\n",
    "import string\n"
   ]
  },
  {
   "cell_type": "code",
   "execution_count": 2,
   "id": "7c27b69b-2909-4235-b73d-f4a08e10c9a6",
   "metadata": {},
   "outputs": [
    {
     "name": "stdout",
     "output_type": "stream",
     "text": [
      "Number of cells changed: 6333\n",
      "                                             Original  \\\n",
      "14                              OCCIDENTAL & ORIENTAL   \n",
      "15                                                NaN   \n",
      "16            OCCIDENTAL & ORIENTAL STEAMSHIP COMPANY   \n",
      "21                            BOSTON BOOT & SHOE CLUB   \n",
      "24                         PACIFIC MAIL STEAMSHIP CO.   \n",
      "35                         PACIFIC MAIL STEAMSHIP CO.   \n",
      "40                                  U.S.M.S. NEW YORK   \n",
      "43                                             HAAN'S   \n",
      "45                      RED STAR LINE - S.S.SOUTHWARK   \n",
      "47         THIRD PANEL SHERIFF'S JURY NEW YORK COUNTY   \n",
      "50  NATIONAL VERBANDES DEUTSCH AMERIKANISCHER JOUR...   \n",
      "53                              BAILY CATERING CO.THE   \n",
      "54                             NORTHERN STEAMSHIP CO.   \n",
      "55                         CITIZENS'STEAMBOAT COMPANY   \n",
      "57                              HAMBURG-AMERIKA LINIE   \n",
      "58                           UNION HOTEL & RESTAURANT   \n",
      "71                                 GOULD'S HOTEL CAFE   \n",
      "72                         GERMAN RESTAURANT & BUFFET   \n",
      "73                                    MR. JOHN MORGAN   \n",
      "81                                   GRAND HOTEL L'D.   \n",
      "\n",
      "                                             Modified  \n",
      "14                               OCCIDENTAL  ORIENTAL  \n",
      "15                                                NaN  \n",
      "16             OCCIDENTAL  ORIENTAL STEAMSHIP COMPANY  \n",
      "21                             BOSTON BOOT  SHOE CLUB  \n",
      "24                          PACIFIC MAIL STEAMSHIP CO  \n",
      "35                          PACIFIC MAIL STEAMSHIP CO  \n",
      "40                                      USMS NEW YORK  \n",
      "43                                              HAANS  \n",
      "45                         RED STAR LINE  SSSOUTHWARK  \n",
      "47          THIRD PANEL SHERIFFS JURY NEW YORK COUNTY  \n",
      "50  NATIONAL VERBANDES DEUTSCH AMERIKANISCHER JOUR...  \n",
      "53                               BAILY CATERING COTHE  \n",
      "54                              NORTHERN STEAMSHIP CO  \n",
      "55                          CITIZENSSTEAMBOAT COMPANY  \n",
      "57                               HAMBURGAMERIKA LINIE  \n",
      "58                            UNION HOTEL  RESTAURANT  \n",
      "71                                  GOULDS HOTEL CAFE  \n",
      "72                          GERMAN RESTAURANT  BUFFET  \n",
      "73                                     MR JOHN MORGAN  \n",
      "81                                     GRAND HOTEL LD  \n"
     ]
    }
   ],
   "source": [
    "df1 = pd.read_csv('Menu.csv')\n",
    "df2 = pd.read_csv('corrected_dataset.csv')\n",
    "\n",
    "changes = df2['sponsor'] != df1['sponsor']\n",
    "num_changes = changes.sum()\n",
    "\n",
    "print(f'Number of cells changed: {num_changes}')\n",
    "\n",
    "changed_cells = df1[changes][['sponsor']].head(20)\n",
    "\n",
    "changed_cells = pd.DataFrame({\n",
    "    'Original': df1['sponsor'][changes].head(20),\n",
    "    'Modified': df2['sponsor'][changes].head(20)\n",
    "})\n",
    "\n",
    "print(changed_cells)"
   ]
  },
  {
   "cell_type": "code",
   "execution_count": null,
   "id": "966c15ec-5753-49cf-9030-9f020d556f78",
   "metadata": {},
   "outputs": [],
   "source": []
  }
 ],
 "metadata": {
  "kernelspec": {
   "display_name": "Python 3 (ipykernel)",
   "language": "python",
   "name": "python3"
  },
  "language_info": {
   "codemirror_mode": {
    "name": "ipython",
    "version": 3
   },
   "file_extension": ".py",
   "mimetype": "text/x-python",
   "name": "python",
   "nbconvert_exporter": "python",
   "pygments_lexer": "ipython3",
   "version": "3.10.12"
  }
 },
 "nbformat": 4,
 "nbformat_minor": 5
}
