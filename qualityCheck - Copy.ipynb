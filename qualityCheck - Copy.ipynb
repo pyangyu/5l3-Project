{
 "cells": [
  {
   "cell_type": "code",
   "execution_count": 1,
   "id": "1517f558-8669-48d7-a867-b7bc30512630",
   "metadata": {},
   "outputs": [],
   "source": [
    "import pandas as pd\n",
    "import string"
   ]
  },
  {
   "cell_type": "code",
   "execution_count": 16,
   "id": "966c15ec-5753-49cf-9030-9f020d556f78",
   "metadata": {},
   "outputs": [],
   "source": [
    "# load the data for comparision\n",
    "\n",
    "df1 = pd.read_csv('Menu.csv')\n",
    "df2 = pd.read_csv('cleanMenu.csv')"
   ]
  },
  {
   "cell_type": "code",
   "execution_count": 17,
   "id": "4da575c8",
   "metadata": {},
   "outputs": [],
   "source": [
    "df2['date'] = pd.to_datetime(df2['date'], errors='coerce')\n",
    "\n",
    "df2 = df2[\n",
    "    (df2['date'].notna()) & (df2['date'].dt.year <= 2024) &\n",
    "    (df2['status'].isin(['complete', 'under review'])) &\n",
    "    (df2['page_count'] <= 100) &\n",
    "    (df2['dish_count'] <= 1000)\n",
    "]"
   ]
  },
  {
   "cell_type": "code",
   "execution_count": 18,
   "id": "c9b1a78b-3a60-4fdc-b5dd-ef9c2cbb0fb4",
   "metadata": {},
   "outputs": [
    {
     "name": "stdout",
     "output_type": "stream",
     "text": [
      "Number of changed cells in 'sponsor' column: 10431\n",
      "Number of removed cells in 'sponsor' column: 2210\n",
      "ID: 12464, Before: REPUBLICAN HOUSE, After: REPUBLIC HOUSE\n",
      "ID: 12469, Before: HOTEL NETHERLAND, After: NETHERLAND HOTEL\n",
      "ID: 12484, Before: BOSTON BOOT & SHOE CLUB, After: BOSTON BOOT AND SHOE CLUB\n",
      "ID: 12486, Before: HOTEL SAVOY, After: SAVOY HOTEL\n",
      "ID: 12487, Before: PACIFIC MAIL STEAMSHIP CO., After: PACIFIC MAIL STEAMSHIP COMPANY\n",
      "ID: 12490, Before: HOTEL IMPERIAL, After: IMPERIAL HOTEL\n",
      "ID: 12499, Before: PACIFIC MAIL STEAMSHIP CO., After: PACIFIC MAIL STEAMSHIP COMPANY\n",
      "ID: 12507, Before: HAAN'S, After: HAANS\n",
      "ID: 12509, Before: RED STAR LINE - S.S.SOUTHWARK, After: RED STAR LINE - S.S. SOUTHWARK\n",
      "ID: 12511, Before: THIRD PANEL SHERIFF'S JURY NEW YORK COUNTY, After: THIRD PANEL SHERIFFS JURY NEW YORK COUNTY\n",
      "ID: 12520, Before: BAILY CATERING CO.THE, After: BAILEY CATERING COMPANY\n",
      "ID: 12523, Before: CITIZENS'STEAMBOAT COMPANY, After: CITIZENSSTEAMBOAT COMPANY\n",
      "ID: 12539, Before: GOULD'S HOTEL CAFE, After: GOULDS HOTEL CAFE\n",
      "ID: 12551, Before: NORDDEUTSCHER LLOYD  BREMEN, After: NORDDEUTSCHER LLOYD BREMEN\n",
      "ID: 12554, Before: HOTEL DEL CORONADO, After: DEL CORONADO HOTEL\n",
      "ID: 12556, Before: GRAND HOTEL L'D., After: GRAND HOTEL LD.\n",
      "ID: 12557, Before: HOTEL VICTORY, After: VICTORY HOTEL\n",
      "ID: 12563, Before: NEW ENGLAND SHORTHAND REPORTER'S ASSOCIATION, After: NEW ENGLAND SHORTHAND REPORTERS ASSOCIATION\n",
      "ID: 12564, Before: RECTOR'S, After: RECTORS\n",
      "ID: 12567, Before: STATLER'S, After: STATLERS\n"
     ]
    }
   ],
   "source": [
    "df1i = df1\n",
    "df2i = df2\n",
    "\n",
    "df1i.set_index('id', inplace=True)\n",
    "df2i.set_index('id', inplace=True)\n",
    "\n",
    "sponsor_before = df1i[['sponsor']]\n",
    "sponsor_after = df2i[['sponsor']]\n",
    "\n",
    "all_indices = sponsor_before.index.union(sponsor_after.index)\n",
    "sponsor_before_aligned = sponsor_before.reindex(index=all_indices).fillna('MISSING')\n",
    "sponsor_after_aligned = sponsor_after.reindex(index=all_indices).fillna('MISSING')\n",
    "\n",
    "comparison = sponsor_before_aligned != sponsor_after_aligned\n",
    "num_changed_cells = comparison.sum().sum()\n",
    "\n",
    "removed_indices = sponsor_before.index.difference(sponsor_after.index)\n",
    "num_removed_cells = len(removed_indices)\n",
    "\n",
    "print(f\"Number of changed cells in 'sponsor' column: {num_changed_cells}\")\n",
    "print(f\"Number of removed cells in 'sponsor' column: {num_removed_cells}\")\n",
    "\n",
    "changed_indices = comparison[comparison['sponsor']].index\n",
    "for idx in changed_indices[:20]:\n",
    "    before_value = sponsor_before_aligned.at[idx, 'sponsor']\n",
    "    after_value = sponsor_after_aligned.at[idx, 'sponsor']\n",
    "    print(f\"ID: {idx}, Before: {before_value}, After: {after_value}\")"
   ]
  },
  {
   "cell_type": "code",
   "execution_count": 19,
   "id": "1d57f010-a2dd-42fe-91e2-f9f6f49db36a",
   "metadata": {},
   "outputs": [
    {
     "name": "stdout",
     "output_type": "stream",
     "text": [
      "Original: Number of NaN cells: 1561\n",
      "Original: Number of empty cells: 0\n",
      "Modified: Number of NaN cells: 0\n",
      "Modified: Number of empty cells: 0\n"
     ]
    }
   ],
   "source": [
    "# check how the number nan and empty \n",
    "\n",
    "num_nan1 = df1['sponsor'].isna().sum()\n",
    "num_empty1 = (df1['sponsor'] == '').sum()\n",
    "num_nan2 = df2['sponsor'].isna().sum()\n",
    "num_empty2 = (df2['sponsor'] == '').sum()\n",
    "\n",
    "print(f'Original: Number of NaN cells: {num_nan1}')\n",
    "print(f'Original: Number of empty cells: {num_empty1}')\n",
    "print(f'Modified: Number of NaN cells: {num_nan2}')\n",
    "print(f'Modified: Number of empty cells: {num_empty2}')"
   ]
  },
  {
   "cell_type": "code",
   "execution_count": 20,
   "id": "b1f47df9-0541-4f41-a729-03cc0c3d7056",
   "metadata": {},
   "outputs": [
    {
     "name": "stdout",
     "output_type": "stream",
     "text": [
      "Original: Number of cells not in upper case, lower case, or title case: 1404\n",
      "Modified: Number of cells not in upper case, lower case, or title case: 0\n"
     ]
    }
   ],
   "source": [
    "# check if any cells are not either lower case, upper case or title case\n",
    "\n",
    "def is_not_case_compliant(text):\n",
    "    if pd.isna(text):  # Treat NaN values as compliant\n",
    "        return False\n",
    "    text = str(text)\n",
    "    return not (text.isupper() or text.islower() or text.istitle())\n",
    "\n",
    "num_non_compliant1 = df1['sponsor'].apply(is_not_case_compliant).sum()\n",
    "num_non_compliant2 = df2['sponsor'].apply(is_not_case_compliant).sum()\n",
    "\n",
    "print(f'Original: Number of cells not in upper case, lower case, or title case: {num_non_compliant1}')\n",
    "print(f'Modified: Number of cells not in upper case, lower case, or title case: {num_non_compliant2}')"
   ]
  },
  {
   "cell_type": "code",
   "execution_count": 21,
   "id": "1f83bb54-03b4-441e-a36c-88a44e90812f",
   "metadata": {},
   "outputs": [
    {
     "name": "stdout",
     "output_type": "stream",
     "text": [
      "Original: Number of unique values in the sponsor column: 6370\n",
      "Modified: Number of unique values in the sponsor column: 5111\n"
     ]
    }
   ],
   "source": [
    "# check how many unique cells\n",
    "\n",
    "num_unique_values1 = df1['sponsor'].nunique()\n",
    "num_unique_values2 = df2['sponsor'].nunique()\n",
    "\n",
    "print(f'Original: Number of unique values in the sponsor column: {num_unique_values1}')\n",
    "print(f'Modified: Number of unique values in the sponsor column: {num_unique_values2}')"
   ]
  },
  {
   "cell_type": "code",
   "execution_count": 22,
   "id": "99ac18fb-d66e-458a-b0f6-c6cc8eb54684",
   "metadata": {},
   "outputs": [
    {
     "name": "stdout",
     "output_type": "stream",
     "text": [
      "Original: Number of sponsors with multiple locations: 93\n",
      "Modified: Number of sponsors with multiple locations: 508\n",
      "\n",
      "Original: Sponsors with multiple locations and their count of unique locations:\n",
      "sponsor\n",
      "(AMERICAN LINE)                                 2\n",
      "?                                              15\n",
      "ALCAZAR HOTEL                                   2\n",
      "BALTIMORE AND OHIO RR ROYAL BLUE LINE           2\n",
      "BELVEDERE HOUSE;                                2\n",
      "                                               ..\n",
      "Unknown                                         3\n",
      "VENDOME HOTEL                                   2\n",
      "Waldorf-Astoria                                 2\n",
      "[Restaurant And/Or Location Unknown]            2\n",
      "[Restaurant Name And/Or Location Not Given]     9\n",
      "Name: location, Length: 93, dtype: int64\n",
      "\n",
      "Modified: Sponsors with multiple locations and their count of unique locations:\n",
      "sponsor\n",
      "A.H. MEYER RATHSKELLER                               2\n",
      "A.W. DENNETT                                         2\n",
      "ADAMS RESTAURANT                                     2\n",
      "AIR FRANCE/CONCORDE                                  2\n",
      "ALAMO HOTEL                                          2\n",
      "                                                    ..\n",
      "WISCONSIN BANKERS ASSOCIATION                        2\n",
      "WISCONSIN SOCIETY SONS OF THE AMERICAN REVOLUTION    2\n",
      "WORTHY HOTEL                                         2\n",
      "YORK HOTEL                                           2\n",
      "YOUNG MENS CHRISTIAN ASSOCIATION                     2\n",
      "Name: location, Length: 508, dtype: int64\n"
     ]
    }
   ],
   "source": [
    "# check the sponsors that have multiple location\n",
    "\n",
    "location_counts1 = df1.groupby('sponsor')['location'].nunique()\n",
    "multiple_locations1 = location_counts1[location_counts1 > 1]\n",
    "num_sponsors_multiple_locations1 = multiple_locations1.count()\n",
    "\n",
    "location_counts2 = df2.groupby('sponsor')['location'].nunique()\n",
    "multiple_locations2 = location_counts2[location_counts2 > 1]\n",
    "num_sponsors_multiple_locations2 = multiple_locations2.count()\n",
    "\n",
    "print(f'Original: Number of sponsors with multiple locations: {num_sponsors_multiple_locations1}')\n",
    "print(f'Modified: Number of sponsors with multiple locations: {num_sponsors_multiple_locations2}')\n",
    "\n",
    "print(\"\\nOriginal: Sponsors with multiple locations and their count of unique locations:\")\n",
    "print(multiple_locations1)\n",
    "\n",
    "print(\"\\nModified: Sponsors with multiple locations and their count of unique locations:\")\n",
    "print(multiple_locations2)"
   ]
  },
  {
   "cell_type": "code",
   "execution_count": 23,
   "id": "d57c9116-9724-427d-a740-b42bac6a1b26",
   "metadata": {
    "scrolled": false
   },
   "outputs": [
    {
     "name": "stdout",
     "output_type": "stream",
     "text": [
      "Original: The most popular sponsor is:\n",
      "\n",
      " sponsor\n",
      "?                                              15\n",
      "[Restaurant Name And/Or Location Not Given]     9\n",
      "CONFRERIE DE LA CHAINE DES ROTISSEURS           5\n",
      "USMS                                            4\n",
      "U.S.M.S.                                        4\n",
      "                                               ..\n",
      "HOTEL DE SUN                                    1\n",
      "HOTEL DE L'ANGE                                 1\n",
      "HOTEL DE DIJON                                  1\n",
      "HOTEL DE BELLEVUE                               1\n",
      "xtYE TWILIGHT CLUB                              1\n",
      "Name: location, Length: 6370, dtype: int64\n",
      "\n",
      "\n",
      "Modified The most popular sponsor is:\n",
      "\n",
      " sponsor\n",
      "NORDDEUTSCHER LLOYD BREMEN                   19\n",
      "RESTAURANT NAME AND/OR LOCATION NOT GIVEN    15\n",
      "RED STAR LINE - ANTWERPEN - NY               10\n",
      "U.S.M.S.                                      9\n",
      "HAMBURG-AMERIKA LINIE                         7\n",
      "                                             ..\n",
      "HOTEL CADILLAC                                1\n",
      "HOTEL CABO SAN LUCAS                          1\n",
      "HOTEL BUFFALO                                 1\n",
      "HOTEL BRUNSWICK                               1\n",
      "ZURLESE                                       1\n",
      "Name: location, Length: 5111, dtype: int64\n"
     ]
    }
   ],
   "source": [
    "sort_locations1 = location_counts1.sort_values(ascending=False)\n",
    "print(f'Original: The most popular sponsor is:\\n\\n {sort_locations1}') # .to_string(header=False)\n",
    "sort_locations2 = location_counts2.sort_values(ascending=False)\n",
    "print(f'\\n\\nModified The most popular sponsor is:\\n\\n {sort_locations2}')"
   ]
  },
  {
   "cell_type": "code",
   "execution_count": 24,
   "id": "d8b65433",
   "metadata": {},
   "outputs": [
    {
     "name": "stdout",
     "output_type": "stream",
     "text": [
      "Before cleaning:\n",
      "Number of rows with date greater than current date: 0\n",
      "Number of rows with invalid status: 0\n",
      "Number of rows with page count greater than 100: 0\n",
      "Number of rows with dish count greater than 4000: 1\n",
      "After cleaning:\n",
      "Number of rows with date greater than current date: 0\n",
      "Number of rows with invalid status: 0\n",
      "Number of rows with page count greater than 100: 0\n",
      "Number of rows with dish count greater than 4000: 0\n"
     ]
    }
   ],
   "source": [
    "from datetime import datetime\n",
    "current_date = datetime.now()\n",
    "\n",
    "df1['date'] = pd.to_datetime(df1['date'], errors='coerce')\n",
    "\n",
    "date_violations = df1[df1['date'] > current_date]\n",
    "status_violations = df1[~df1['status'].isin(['complete', 'under review'])]\n",
    "page_count_violations = df1[df1['page_count'] > 100]\n",
    "dish_count_violations = df1[df1['dish_count'] > 4000]\n",
    "# a = df1[df1['id'] == 26825]\n",
    "# print(a)\n",
    "print(\"Before cleaning:\")\n",
    "print(f\"Number of rows with date greater than current date: {len(date_violations)}\")\n",
    "print(f\"Number of rows with invalid status: {len(status_violations)}\")\n",
    "print(f\"Number of rows with page count greater than 100: {len(page_count_violations)}\")\n",
    "print(f\"Number of rows with dish count greater than 4000: {len(dish_count_violations)}\")\n",
    "\n",
    "violations = {\n",
    "    'date_greater_than_current': df2[df2['date'] > current_date],\n",
    "    'invalid_status': df2[~df2['status'].isin(['complete', 'under review'])],\n",
    "    'page_count_greater_than_100': df2[df2['page_count'] > 100],\n",
    "    'dish_count_greater_than_1000': df2[df2['dish_count'] > 4000]\n",
    "}\n",
    "\n",
    "print(\"After cleaning:\")\n",
    "print(f\"Number of rows with date greater than current date: {len(violations['date_greater_than_current'])}\")\n",
    "print(f\"Number of rows with invalid status: {len(violations['invalid_status'])}\")\n",
    "print(f\"Number of rows with page count greater than 100: {len(violations['page_count_greater_than_100'])}\")\n",
    "print(f\"Number of rows with dish count greater than 4000: {len(violations['dish_count_greater_than_1000'])}\")"
   ]
  },
  {
   "cell_type": "code",
   "execution_count": 25,
   "id": "edc16e59",
   "metadata": {},
   "outputs": [],
   "source": [
    "df2.to_csv('cleanMenu.csv')"
   ]
  },
  {
   "cell_type": "code",
   "execution_count": null,
   "id": "bff3fd72",
   "metadata": {},
   "outputs": [],
   "source": []
  }
 ],
 "metadata": {
  "kernelspec": {
   "display_name": "Python 3 (ipykernel)",
   "language": "python",
   "name": "python3"
  },
  "language_info": {
   "codemirror_mode": {
    "name": "ipython",
    "version": 3
   },
   "file_extension": ".py",
   "mimetype": "text/x-python",
   "name": "python",
   "nbconvert_exporter": "python",
   "pygments_lexer": "ipython3",
   "version": "3.9.13"
  }
 },
 "nbformat": 4,
 "nbformat_minor": 5
}
